{
 "cells": [
  {
   "cell_type": "markdown",
   "metadata": {},
   "source": [
    "the objectives are that you modify this file and then push it to the github."
   ]
  },
  {
   "cell_type": "markdown",
   "metadata": {},
   "source": [
    "In this practice we will learn git commands:\n",
    "\n",
    "git status\n",
    "git clone\n",
    "git checkout\n",
    "git add\n",
    "git commit\n",
    "git commit --amend\n",
    "git push\n",
    "git pull\n",
    "git fetch\n"
   ]
  },
  {
   "cell_type": "code",
   "execution_count": null,
   "metadata": {},
   "outputs": [],
   "source": [
    "new change"
   ]
  }
 ],
 "metadata": {
  "kernelspec": {
   "display_name": "Python 3",
   "language": "python",
   "name": "python3"
  },
  "language_info": {
   "codemirror_mode": {
    "name": "ipython",
    "version": 3
   },
   "file_extension": ".py",
   "mimetype": "text/x-python",
   "name": "python",
   "nbconvert_exporter": "python",
   "pygments_lexer": "ipython3",
   "version": "3.6.7"
  }
 },
 "nbformat": 4,
 "nbformat_minor": 2
}
